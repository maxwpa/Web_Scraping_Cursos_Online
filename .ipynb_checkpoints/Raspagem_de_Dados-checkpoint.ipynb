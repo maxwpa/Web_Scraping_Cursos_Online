{
 "cells": [
  {
   "cell_type": "code",
   "execution_count": 1,
   "id": "93b23837",
   "metadata": {},
   "outputs": [],
   "source": [
    "import pandas as pd\n",
    "import requests\n",
    "from bs4 import BeautifulSoup"
   ]
  },
  {
   "cell_type": "code",
   "execution_count": 31,
   "id": "f3e272fa",
   "metadata": {},
   "outputs": [],
   "source": [
    "url = 'https://carranzacursos.com.br/todos-os-cursos/'\n",
    "resposta = requests.get(url)\n",
    "conteudo = resposta.content\n",
    "site = BeautifulSoup(conteudo, 'html.parser')\n",
    "informa = site.find('div', attrs={'class': 'product-details-wrap'})\n",
    "link = informa.find('a')['href']\n",
    "resposta_curso = requests.get(link)\n",
    "conteudo_curso = resposta_curso.content\n",
    "pagina = BeautifulSoup(conteudo_curso, 'html.parser')\n",
    "filtro = pagina.find('span', attrs={'class': 'elementor-icon-list-text'}).text\n",
    "if filtro == 'Resumo do edital':\n",
    "    Concurso = pagina.find('h3', attrs={'class': 'elementor-image-box-title'}).text\n",
    "    status = pagina.find_all('span', attrs={'class': 'elementor-icon-list-text'})[1].text\n",
    "    Status = status.replace('Status:', '').strip()\n",
    "    periodo_inscricao = pagina.find_all('span', attrs={'class': 'elementor-icon-list-text'})[2].text\n",
    "    Periodo_de_Inscrição = periodo_inscricao.replace('Período de Inscrições:', '').strip()\n",
    "    Abrangência = pagina.find('b').text"
   ]
  },
  {
   "cell_type": "code",
   "execution_count": 15,
   "id": "fda2976a",
   "metadata": {},
   "outputs": [
    {
     "name": "stdout",
     "output_type": "stream",
     "text": [
      "https://carranzacursos.com.br/product/ifbaiano/\n"
     ]
    }
   ],
   "source": [
    "print(link)"
   ]
  },
  {
   "cell_type": "code",
   "execution_count": 44,
   "id": "effd1fb0",
   "metadata": {},
   "outputs": [
    {
     "name": "stdout",
     "output_type": "stream",
     "text": [
      "de 03 de janeiro a 07 de fevereiro de 2024\n"
     ]
    }
   ],
   "source": [
    "print(Periodo_de_Inscrição)"
   ]
  },
  {
   "cell_type": "code",
   "execution_count": null,
   "id": "545b1a6e",
   "metadata": {},
   "outputs": [],
   "source": []
  }
 ],
 "metadata": {
  "kernelspec": {
   "display_name": "Python 3 (ipykernel)",
   "language": "python",
   "name": "python3"
  },
  "language_info": {
   "codemirror_mode": {
    "name": "ipython",
    "version": 3
   },
   "file_extension": ".py",
   "mimetype": "text/x-python",
   "name": "python",
   "nbconvert_exporter": "python",
   "pygments_lexer": "ipython3",
   "version": "3.11.5"
  }
 },
 "nbformat": 4,
 "nbformat_minor": 5
}
