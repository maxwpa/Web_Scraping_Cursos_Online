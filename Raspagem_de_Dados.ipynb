{
 "cells": [
  {
   "cell_type": "code",
   "execution_count": 1,
   "id": "93b23837",
   "metadata": {},
   "outputs": [],
   "source": [
    "import pandas as pd\n",
    "import requests\n",
    "from bs4 import BeautifulSoup"
   ]
  },
  {
   "cell_type": "code",
   "execution_count": 123,
   "id": "f3e272fa",
   "metadata": {},
   "outputs": [],
   "source": [
    "url = 'https://carranzacursos.com.br/todos-os-cursos/'\n",
    "resposta = requests.get(url)\n",
    "conteudo = resposta.content\n",
    "site = BeautifulSoup(conteudo, 'html.parser')\n",
    "informa = site.find('div', attrs={'class': 'product-details-wrap'})\n",
    "link = informa.find('a')['href']\n",
    "resposta_curso = requests.get(link)\n",
    "conteudo_curso = resposta_curso.content\n",
    "pagina = BeautifulSoup(conteudo_curso, 'html.parser')\n",
    "filtro = pagina.find('span', attrs={'class': 'elementor-icon-list-text'}).text\n",
    "if filtro == 'Resumo do edital':\n",
    "    Concurso = pagina.find('h3', attrs={'class': 'elementor-image-box-title'}).text\n",
    "    Status = pagina.find_all('span', attrs={'class': 'elementor-icon-list-text'})[1].text\n",
    "    Status = Status.replace('Status:', '').strip()\n",
    "    Periodo_de_Inscrição = pagina.find_all('span', attrs={'class': 'elementor-icon-list-text'})[2].text\n",
    "    Periodo_de_Inscrição = Periodo_de_Inscrição.replace('Período de Inscrições:', '').strip()\n",
    "    Remunereção_Inicial = pagina.find_all('span', attrs={'class': 'elementor-icon-list-text'})[3].text\n",
    "    Remunereção_Inicial = Remunereção_Inicial.replace('Remuneração inicial:', '').strip()\n",
    "    Cargos = pagina.find_all('span', attrs={'class': 'elementor-icon-list-text'})[4].text\n",
    "    Cargos = Cargos.replace('Cargos:', '').strip()\n",
    "    Escolaridade = pagina.find_all('span', attrs={'class': 'elementor-icon-list-text'})[5].text\n",
    "    Escolaridade = Escolaridade.replace('Escolaridade:', '').strip()\n",
    "    Taxa_de_Inscrição = pagina.find_all('span', attrs={'class': 'elementor-icon-list-text'})[6].text\n",
    "    Taxa_de_Inscrição = Taxa_de_Inscrição.replace('Taxa de inscrição:', '').strip()\n",
    "    Data_da_Prova = pagina.find_all('span', attrs={'class': 'elementor-icon-list-text'})[7].text\n",
    "    Data_da_Prova = Data_da_Prova.replace('Data da prova:', '').strip()\n",
    "    Número_de_Vagas = pagina.find_all('span', attrs={'class': 'elementor-icon-list-text'})[8].text\n",
    "    Número_de_Vagas = Número_de_Vagas.replace('Número de vagas:', '').strip()\n",
    "    Banca_Organizadora = pagina.find_all('span', attrs={'class': 'elementor-icon-list-text'})[9].text\n",
    "    Banca_Organizadora = Banca_Organizadora.replace('Banca organizadora:', '').strip()\n",
    "    Lotação = pagina.find_all('span', attrs={'class': 'elementor-icon-list-text'})[10].text\n",
    "    Lotação = Lotação.replace('Lotação:', '').strip()\n",
    "    Cursos = pagina.find_all('a', attrs={'class': 'elementor-toggle-title'})\n",
    "    Cursos = [curso.text for curso in Cursos[:5]]\n",
    "    Preço_Original = pagina.find_all('h2', attrs={'class': 'elementor-heading-title elementor-size-default'})[4].text\n",
    "    Preço_Original = Preço_Original.replace('R$', '')\n",
    "    Preço_Original = float(Preço_Original.replace(',', '.'))\n",
    "    Oferta_á_Vista = pagina.find_all('h2', attrs={'class': 'elementor-heading-title elementor-size-default'})[8].text\n",
    "    Oferta_á_Vista = Oferta_á_Vista.replace('R$', '')\n",
    "    Oferta_á_Vista = float(Oferta_á_Vista.replace(',', '.'))\n",
    "    Parcelamento = pagina.find_all('h2', attrs={'class': 'elementor-heading-title elementor-size-default'})\n",
    "    Parcelamento = [parcela.text for parcela in Parcelamento[6:8]]\n",
    "    Parcelamento = ' '.join(Parcelamento)\n",
    "    Valor_da_Parcela = pagina.find_all('h2', attrs={'class': 'elementor-heading-title elementor-size-default'})[5].text\n",
    "    Valor_da_Parcela = Valor_da_Parcela.replace('R$', '')\n",
    "    Valor_da_Parcela = float(Valor_da_Parcela.replace(',', '.'))\n",
    "    Abrangência = pagina.find('b').text"
   ]
  },
  {
   "cell_type": "code",
   "execution_count": 124,
   "id": "545b1a6e",
   "metadata": {},
   "outputs": [
    {
     "name": "stdout",
     "output_type": "stream",
     "text": [
      "32.83\n"
     ]
    }
   ],
   "source": [
    "print(Valor_da_Parcela) "
   ]
  },
  {
   "cell_type": "code",
   "execution_count": 15,
   "id": "fda2976a",
   "metadata": {},
   "outputs": [
    {
     "name": "stdout",
     "output_type": "stream",
     "text": [
      "https://carranzacursos.com.br/product/ifbaiano/\n"
     ]
    }
   ],
   "source": [
    "print(link)"
   ]
  },
  {
   "cell_type": "code",
   "execution_count": null,
   "id": "54a10e8d",
   "metadata": {},
   "outputs": [],
   "source": [
    "Oferta_á_Vista = float(Oferta_á_Vista.replace(',', '.'))"
   ]
  },
  {
   "cell_type": "code",
   "execution_count": 142,
   "id": "b32ff645",
   "metadata": {},
   "outputs": [
    {
     "ename": "AttributeError",
     "evalue": "'NoneType' object has no attribute 'keys'",
     "output_type": "error",
     "traceback": [
      "\u001b[1;31m---------------------------------------------------------------------------\u001b[0m",
      "\u001b[1;31mAttributeError\u001b[0m                            Traceback (most recent call last)",
      "Cell \u001b[1;32mIn[142], line 113\u001b[0m\n\u001b[0;32m    110\u001b[0m         informacoes_curso \u001b[38;5;241m=\u001b[39m extrair_informacoes_curso(link_curso)\n\u001b[0;32m    111\u001b[0m         dados_cursos\u001b[38;5;241m.\u001b[39mappend(informacoes_curso)\n\u001b[1;32m--> 113\u001b[0m df \u001b[38;5;241m=\u001b[39m pd\u001b[38;5;241m.\u001b[39mDataFrame(dados_cursos)\n\u001b[0;32m    115\u001b[0m display(df)\n",
      "File \u001b[1;32mC:\\PerfLogs\\Lib\\site-packages\\pandas\\core\\frame.py:782\u001b[0m, in \u001b[0;36mDataFrame.__init__\u001b[1;34m(self, data, index, columns, dtype, copy)\u001b[0m\n\u001b[0;32m    780\u001b[0m     \u001b[38;5;28;01mif\u001b[39;00m columns \u001b[38;5;129;01mis\u001b[39;00m \u001b[38;5;129;01mnot\u001b[39;00m \u001b[38;5;28;01mNone\u001b[39;00m:\n\u001b[0;32m    781\u001b[0m         columns \u001b[38;5;241m=\u001b[39m ensure_index(columns)\n\u001b[1;32m--> 782\u001b[0m     arrays, columns, index \u001b[38;5;241m=\u001b[39m nested_data_to_arrays(\n\u001b[0;32m    783\u001b[0m         \u001b[38;5;66;03m# error: Argument 3 to \"nested_data_to_arrays\" has incompatible\u001b[39;00m\n\u001b[0;32m    784\u001b[0m         \u001b[38;5;66;03m# type \"Optional[Collection[Any]]\"; expected \"Optional[Index]\"\u001b[39;00m\n\u001b[0;32m    785\u001b[0m         data,\n\u001b[0;32m    786\u001b[0m         columns,\n\u001b[0;32m    787\u001b[0m         index,  \u001b[38;5;66;03m# type: ignore[arg-type]\u001b[39;00m\n\u001b[0;32m    788\u001b[0m         dtype,\n\u001b[0;32m    789\u001b[0m     )\n\u001b[0;32m    790\u001b[0m     mgr \u001b[38;5;241m=\u001b[39m arrays_to_mgr(\n\u001b[0;32m    791\u001b[0m         arrays,\n\u001b[0;32m    792\u001b[0m         columns,\n\u001b[1;32m   (...)\u001b[0m\n\u001b[0;32m    795\u001b[0m         typ\u001b[38;5;241m=\u001b[39mmanager,\n\u001b[0;32m    796\u001b[0m     )\n\u001b[0;32m    797\u001b[0m \u001b[38;5;28;01melse\u001b[39;00m:\n",
      "File \u001b[1;32mC:\\PerfLogs\\Lib\\site-packages\\pandas\\core\\internals\\construction.py:498\u001b[0m, in \u001b[0;36mnested_data_to_arrays\u001b[1;34m(data, columns, index, dtype)\u001b[0m\n\u001b[0;32m    495\u001b[0m \u001b[38;5;28;01mif\u001b[39;00m is_named_tuple(data[\u001b[38;5;241m0\u001b[39m]) \u001b[38;5;129;01mand\u001b[39;00m columns \u001b[38;5;129;01mis\u001b[39;00m \u001b[38;5;28;01mNone\u001b[39;00m:\n\u001b[0;32m    496\u001b[0m     columns \u001b[38;5;241m=\u001b[39m ensure_index(data[\u001b[38;5;241m0\u001b[39m]\u001b[38;5;241m.\u001b[39m_fields)\n\u001b[1;32m--> 498\u001b[0m arrays, columns \u001b[38;5;241m=\u001b[39m to_arrays(data, columns, dtype\u001b[38;5;241m=\u001b[39mdtype)\n\u001b[0;32m    499\u001b[0m columns \u001b[38;5;241m=\u001b[39m ensure_index(columns)\n\u001b[0;32m    501\u001b[0m \u001b[38;5;28;01mif\u001b[39;00m index \u001b[38;5;129;01mis\u001b[39;00m \u001b[38;5;28;01mNone\u001b[39;00m:\n",
      "File \u001b[1;32mC:\\PerfLogs\\Lib\\site-packages\\pandas\\core\\internals\\construction.py:832\u001b[0m, in \u001b[0;36mto_arrays\u001b[1;34m(data, columns, dtype)\u001b[0m\n\u001b[0;32m    830\u001b[0m     arr \u001b[38;5;241m=\u001b[39m _list_to_arrays(data)\n\u001b[0;32m    831\u001b[0m \u001b[38;5;28;01melif\u001b[39;00m \u001b[38;5;28misinstance\u001b[39m(data[\u001b[38;5;241m0\u001b[39m], abc\u001b[38;5;241m.\u001b[39mMapping):\n\u001b[1;32m--> 832\u001b[0m     arr, columns \u001b[38;5;241m=\u001b[39m _list_of_dict_to_arrays(data, columns)\n\u001b[0;32m    833\u001b[0m \u001b[38;5;28;01melif\u001b[39;00m \u001b[38;5;28misinstance\u001b[39m(data[\u001b[38;5;241m0\u001b[39m], ABCSeries):\n\u001b[0;32m    834\u001b[0m     arr, columns \u001b[38;5;241m=\u001b[39m _list_of_series_to_arrays(data, columns)\n",
      "File \u001b[1;32mC:\\PerfLogs\\Lib\\site-packages\\pandas\\core\\internals\\construction.py:912\u001b[0m, in \u001b[0;36m_list_of_dict_to_arrays\u001b[1;34m(data, columns)\u001b[0m\n\u001b[0;32m    910\u001b[0m     gen \u001b[38;5;241m=\u001b[39m (\u001b[38;5;28mlist\u001b[39m(x\u001b[38;5;241m.\u001b[39mkeys()) \u001b[38;5;28;01mfor\u001b[39;00m x \u001b[38;5;129;01min\u001b[39;00m data)\n\u001b[0;32m    911\u001b[0m     sort \u001b[38;5;241m=\u001b[39m \u001b[38;5;129;01mnot\u001b[39;00m \u001b[38;5;28many\u001b[39m(\u001b[38;5;28misinstance\u001b[39m(d, \u001b[38;5;28mdict\u001b[39m) \u001b[38;5;28;01mfor\u001b[39;00m d \u001b[38;5;129;01min\u001b[39;00m data)\n\u001b[1;32m--> 912\u001b[0m     pre_cols \u001b[38;5;241m=\u001b[39m lib\u001b[38;5;241m.\u001b[39mfast_unique_multiple_list_gen(gen, sort\u001b[38;5;241m=\u001b[39msort)\n\u001b[0;32m    913\u001b[0m     columns \u001b[38;5;241m=\u001b[39m ensure_index(pre_cols)\n\u001b[0;32m    915\u001b[0m \u001b[38;5;66;03m# assure that they are of the base dict class and not of derived\u001b[39;00m\n\u001b[0;32m    916\u001b[0m \u001b[38;5;66;03m# classes\u001b[39;00m\n",
      "File \u001b[1;32mC:\\PerfLogs\\Lib\\site-packages\\pandas\\_libs\\lib.pyx:374\u001b[0m, in \u001b[0;36mpandas._libs.lib.fast_unique_multiple_list_gen\u001b[1;34m()\u001b[0m\n",
      "File \u001b[1;32mC:\\PerfLogs\\Lib\\site-packages\\pandas\\core\\internals\\construction.py:910\u001b[0m, in \u001b[0;36m<genexpr>\u001b[1;34m(.0)\u001b[0m\n\u001b[0;32m    890\u001b[0m \u001b[38;5;250m\u001b[39m\u001b[38;5;124;03m\"\"\"\u001b[39;00m\n\u001b[0;32m    891\u001b[0m \u001b[38;5;124;03mConvert list of dicts to numpy arrays\u001b[39;00m\n\u001b[0;32m    892\u001b[0m \n\u001b[1;32m   (...)\u001b[0m\n\u001b[0;32m    907\u001b[0m \u001b[38;5;124;03mcolumns : Index\u001b[39;00m\n\u001b[0;32m    908\u001b[0m \u001b[38;5;124;03m\"\"\"\u001b[39;00m\n\u001b[0;32m    909\u001b[0m \u001b[38;5;28;01mif\u001b[39;00m columns \u001b[38;5;129;01mis\u001b[39;00m \u001b[38;5;28;01mNone\u001b[39;00m:\n\u001b[1;32m--> 910\u001b[0m     gen \u001b[38;5;241m=\u001b[39m (\u001b[38;5;28mlist\u001b[39m(x\u001b[38;5;241m.\u001b[39mkeys()) \u001b[38;5;28;01mfor\u001b[39;00m x \u001b[38;5;129;01min\u001b[39;00m data)\n\u001b[0;32m    911\u001b[0m     sort \u001b[38;5;241m=\u001b[39m \u001b[38;5;129;01mnot\u001b[39;00m \u001b[38;5;28many\u001b[39m(\u001b[38;5;28misinstance\u001b[39m(d, \u001b[38;5;28mdict\u001b[39m) \u001b[38;5;28;01mfor\u001b[39;00m d \u001b[38;5;129;01min\u001b[39;00m data)\n\u001b[0;32m    912\u001b[0m     pre_cols \u001b[38;5;241m=\u001b[39m lib\u001b[38;5;241m.\u001b[39mfast_unique_multiple_list_gen(gen, sort\u001b[38;5;241m=\u001b[39msort)\n",
      "\u001b[1;31mAttributeError\u001b[0m: 'NoneType' object has no attribute 'keys'"
     ]
    }
   ],
   "source": [
    "def extrair_informacoes_curso(link):\n",
    "    resposta_curso = requests.get(link)\n",
    "    conteudo_curso = resposta_curso.content\n",
    "    pagina = BeautifulSoup(conteudo_curso, 'html.parser')\n",
    "    filtro = pagina.find('span', attrs={'class': 'elementor-icon-list-text'}).text\n",
    "    if filtro == 'Resumo do edital':\n",
    "        Concurso = pagina.find('h3', attrs={'class': 'elementor-image-box-title'}).text\n",
    "        Status = pagina.find_all('span', attrs={'class': 'elementor-icon-list-text'})[1].text\n",
    "        Status = Status.replace('Status:', '').strip()\n",
    "        Periodo_de_Inscrição = pagina.find_all('span', attrs={'class': 'elementor-icon-list-text'})[2].text\n",
    "        Periodo_de_Inscrição = Periodo_de_Inscrição.replace('Período de Inscrições:', '').strip()\n",
    "        Remuneração_Inicial = pagina.find_all('span', attrs={'class': 'elementor-icon-list-text'})[3].text\n",
    "        Remuneração_Inicial = Remuneração_Inicial.replace('Remuneração inicial:', '').strip()\n",
    "        Cargos = pagina.find_all('span', attrs={'class': 'elementor-icon-list-text'})[4].text\n",
    "        Cargos = Cargos.replace('Cargos:', '').strip()\n",
    "        Escolaridade = pagina.find_all('span', attrs={'class': 'elementor-icon-list-text'})[5].text\n",
    "        Escolaridade = Escolaridade.replace('Escolaridade:', '').strip()\n",
    "        Taxa_de_Inscrição = pagina.find_all('span', attrs={'class': 'elementor-icon-list-text'})[6].text\n",
    "        Taxa_de_Inscrição = Taxa_de_Inscrição.replace('Taxa de inscrição:', '').strip()\n",
    "        Data_da_Prova = pagina.find_all('span', attrs={'class': 'elementor-icon-list-text'})[7].text\n",
    "        Data_da_Prova = Data_da_Prova.replace('Data da prova:', '').strip()\n",
    "        Número_de_Vagas = pagina.find_all('span', attrs={'class': 'elementor-icon-list-text'})[8].text\n",
    "        Número_de_Vagas = Número_de_Vagas.replace('Número de vagas:', '').strip()\n",
    "        Banca_Organizadora = pagina.find_all('span', attrs={'class': 'elementor-icon-list-text'})[9].text\n",
    "        Banca_Organizadora = Banca_Organizadora.replace('Banca organizadora:', '').strip()\n",
    "        Lotação = pagina.find_all('span', attrs={'class': 'elementor-icon-list-text'})[10].text\n",
    "        Lotação = Lotação.replace('Lotação:', '').strip()\n",
    "        Cursos = pagina.find_all('a', attrs={'class': 'elementor-toggle-title'})\n",
    "        Cursos = [curso.text for curso in Cursos[:5]]\n",
    "        Preço_Original = pagina.find_all('h2', attrs={'class': 'elementor-heading-title elementor-size-default'})[4].text\n",
    "        Preço_Original = Preço_Original.replace('R$', '')\n",
    "        #Preço_Original = float(Preço_Original.replace(',', '.'))\n",
    "        if Preço_Original.replace('.', '', 1).replace(',', '', 1).isdigit():\n",
    "            Preço_Original = float(Preço_Original.replace(',', '.'))\n",
    "        else:\n",
    "            Preço_Original = None\n",
    "            \n",
    "       # Oferta_a_Vista = pagina.find_all('h2', attrs={'class': 'elementor-heading-title elementor-size-default'})[8].text\n",
    "       # Oferta_a_Vista = Oferta_a_Vista.replace('R$', '')\n",
    "       # Oferta_a_Vista = float(Oferta_a_Vista.replace(',', '.'))\n",
    "       # if Oferta_a_Vista.replace('.', '', 1).replace(',', '', 1).isdigit():\n",
    "       #     Oferta_a_Vista = float(Oferta_a_Vista.replace(',', '.'))\n",
    "       # else:\n",
    "       #     Oferta_a_Vista = None\n",
    "    \n",
    "        elementos_oferta_vista = pagina.find_all('h2', attrs={'class': 'elementor-heading-title elementor-size-default'})\n",
    "        if len(elementos_oferta_vista) > 8:\n",
    "            Oferta_a_Vista = elementos_oferta_vista[8].text.replace('R$', '')\n",
    "            if Oferta_a_Vista.replace('.', '', 1).replace(',', '', 1).isdigit():\n",
    "                Oferta_a_Vista = float(Oferta_a_Vista.replace(',', '.'))\n",
    "            else:\n",
    "                Oferta_a_Vista = None  # Ou defina um valor padrão que faça sentido no seu contexto\n",
    "        else:\n",
    "            Oferta_a_Vista = None\n",
    "        \n",
    "        Parcelamento = pagina.find_all('h2', attrs={'class': 'elementor-heading-title elementor-size-default'})\n",
    "        Parcelamento = [parcela.text for parcela in Parcelamento[6:8]]\n",
    "        Parcelamento = ' '.join(Parcelamento)\n",
    "        \n",
    "       # Valor_da_Parcela = pagina.find_all('h2', attrs={'class': 'elementor-heading-title elementor-size-default'})[5].text\n",
    "       # Valor_da_Parcela = Valor_da_Parcela.replace('R$', '')\n",
    "       # Valor_da_Parcela = float(Valor_da_Parcela.replace(',', '.'))\n",
    "    \n",
    "        elementos_valor_parcela = pagina.find_all('h2', attrs={'class': 'elementor-heading-title elementor-size-default'})\n",
    "        if len(elementos_valor_parcela) > 5:\n",
    "            Valor_da_Parcela = elementos_valor_parcela[5].text.replace('R$', '')\n",
    "\n",
    "    # Verificar se a string contém apenas dígitos\n",
    "            if Valor_da_Parcela.replace('.', '', 1).replace(',', '', 1).isdigit():\n",
    "                Valor_da_Parcela = float(Valor_da_Parcela.replace(',', '.'))\n",
    "            else:\n",
    "                Valor_da_Parcela = None  # Ou defina um valor padrão que faça sentido no seu contexto\n",
    "        else:\n",
    "            Valor_da_Parcela = None\n",
    "    \n",
    "        Abrangência = pagina.find('b').text\n",
    "        \n",
    "        return {\n",
    "            'Concurso': Concurso,\n",
    "            'Status': Status,\n",
    "            'Periodo_de_Inscrição': Periodo_de_Inscrição,\n",
    "            'Remuneração_Inicial': Remuneração_Inicial,\n",
    "            'Cargos': Cargos,\n",
    "            'Escolaridade': Escolaridade,\n",
    "            'Taxa_de_Inscrição': Taxa_de_Inscrição,\n",
    "            'Data_da_Prova': Data_da_Prova,\n",
    "            'Número_de_Vagas': Número_de_Vagas,\n",
    "            'Banca_Organizadora': Banca_Organizadora,\n",
    "            'Lotação': Lotação,\n",
    "            'Cursos': Cursos,\n",
    "            'Preço_Original': Preço_Original,\n",
    "            'Oferta_a_Vista': Oferta_a_Vista,\n",
    "            'Parcelamento': Parcelamento,\n",
    "            'Valor_da_Parcela': Valor_da_Parcela,\n",
    "            'Abrangência': Abrangência}\n",
    "    \n",
    "for page_number in range(1, 11): \n",
    "    url = f'https://carranzacursos.com.br/todos-os-cursos/page/{page_number}/'\n",
    "    resposta = requests.get(url)\n",
    "    conteudo = resposta.content\n",
    "    site = BeautifulSoup(conteudo, 'html.parser')\n",
    "\n",
    "    links_cursos = [curso.find('a')['href'] for curso in site.find_all('div', attrs={'class': 'product-details-wrap'})]\n",
    "\n",
    "    dados_cursos = []\n",
    "\n",
    "    for link_curso in links_cursos:\n",
    "        informacoes_curso = extrair_informacoes_curso(link_curso)\n",
    "        dados_cursos.append(informacoes_curso)\n",
    "\n",
    "df = pd.DataFrame(dados_cursos)\n",
    "\n",
    "display(df)"
   ]
  },
  {
   "cell_type": "code",
   "execution_count": null,
   "id": "949e4e9e",
   "metadata": {},
   "outputs": [],
   "source": []
  }
 ],
 "metadata": {
  "kernelspec": {
   "display_name": "Python 3 (ipykernel)",
   "language": "python",
   "name": "python3"
  },
  "language_info": {
   "codemirror_mode": {
    "name": "ipython",
    "version": 3
   },
   "file_extension": ".py",
   "mimetype": "text/x-python",
   "name": "python",
   "nbconvert_exporter": "python",
   "pygments_lexer": "ipython3",
   "version": "3.11.5"
  }
 },
 "nbformat": 4,
 "nbformat_minor": 5
}
